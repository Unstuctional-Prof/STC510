{
  "nbformat": 4,
  "nbformat_minor": 0,
  "metadata": {
    "colab": {
      "name": "Module 3 - Basics Project.ipynb",
      "provenance": [],
      "authorship_tag": "ABX9TyOrnAEsOFEX2gM6HRQtKFrH",
      "include_colab_link": true
    },
    "kernelspec": {
      "name": "python3",
      "display_name": "Python 3"
    },
    "language_info": {
      "name": "python"
    }
  },
  "cells": [
    {
      "cell_type": "markdown",
      "metadata": {
        "id": "view-in-github",
        "colab_type": "text"
      },
      "source": [
        "<a href=\"https://colab.research.google.com/github/Unstuctional-Prof/STC510/blob/main/Module_3_Basics_Project.ipynb\" target=\"_parent\"><img src=\"https://colab.research.google.com/assets/colab-badge.svg\" alt=\"Open In Colab\"/></a>"
      ]
    },
    {
      "cell_type": "code",
      "execution_count": 1,
      "metadata": {
        "id": "Xbx5VQwCPhit"
      },
      "outputs": [],
      "source": [
        "#Import basic modules and libraries\n",
        "import numpy as np\n",
        "import pandas as pd\n",
        "import matplotlib.pyplot as plt"
      ]
    },
    {
      "cell_type": "code",
      "source": [
        "# Load crimestat.csv data onto 'crimes' structure.\n",
        "crimes = pd.read_csv('crimestat.csv',engine='python',on_bad_lines='skip')\n",
        "    # Obs.: Pandas returned parsing errors, and the problem was the last record of the file.\n",
        "    # The argument on_bad_lines='skip' simply skipped this record when reading the file.\n",
        "    # This is not the most elegant solution, but it works for this project."
      ],
      "metadata": {
        "id": "mwvjkyhiP4t4"
      },
      "execution_count": 2,
      "outputs": []
    },
    {
      "cell_type": "markdown",
      "source": [
        "**Initial checks to verify the data available in the crimestat.csv file.**"
      ],
      "metadata": {
        "id": "wf2rnqWyR908"
      }
    },
    {
      "cell_type": "code",
      "source": [
        "crimes.shape   #Check the overal size and shape of 'crimes'."
      ],
      "metadata": {
        "colab": {
          "base_uri": "https://localhost:8080/"
        },
        "id": "GwyYWtiHP7Sd",
        "outputId": "f58344f7-006a-4849-f78d-b223078917ac"
      },
      "execution_count": 3,
      "outputs": [
        {
          "output_type": "execute_result",
          "data": {
            "text/plain": [
              "(131676, 7)"
            ]
          },
          "metadata": {},
          "execution_count": 3
        }
      ]
    },
    {
      "cell_type": "code",
      "source": [
        "crimes.head()   #Check types of records."
      ],
      "metadata": {
        "colab": {
          "base_uri": "https://localhost:8080/",
          "height": 354
        },
        "id": "RMhF6e_7QDXt",
        "outputId": "d7a90004-d881-4524-9d23-9ff9dba5e246"
      },
      "execution_count": 4,
      "outputs": [
        {
          "output_type": "execute_result",
          "data": {
            "text/html": [
              "\n",
              "  <div id=\"df-1c7499f4-2a82-4fca-8295-c54f5d8586e6\">\n",
              "    <div class=\"colab-df-container\">\n",
              "      <div>\n",
              "<style scoped>\n",
              "    .dataframe tbody tr th:only-of-type {\n",
              "        vertical-align: middle;\n",
              "    }\n",
              "\n",
              "    .dataframe tbody tr th {\n",
              "        vertical-align: top;\n",
              "    }\n",
              "\n",
              "    .dataframe thead th {\n",
              "        text-align: right;\n",
              "    }\n",
              "</style>\n",
              "<table border=\"1\" class=\"dataframe\">\n",
              "  <thead>\n",
              "    <tr style=\"text-align: right;\">\n",
              "      <th></th>\n",
              "      <th>INC NUMBER</th>\n",
              "      <th>OCCURRED ON</th>\n",
              "      <th>OCCURRED TO</th>\n",
              "      <th>UCR CRIME CATEGORY</th>\n",
              "      <th>100 BLOCK ADDR</th>\n",
              "      <th>ZIP</th>\n",
              "      <th>PREMISE TYPE</th>\n",
              "    </tr>\n",
              "  </thead>\n",
              "  <tbody>\n",
              "    <tr>\n",
              "      <th>0</th>\n",
              "      <td>201600000052855</td>\n",
              "      <td>11/01/2015  00:00</td>\n",
              "      <td>01/09/2016  00:00</td>\n",
              "      <td>MOTOR VEHICLE THEFT</td>\n",
              "      <td>N 43RD AVE &amp; W CACTUS RD</td>\n",
              "      <td>85029.0</td>\n",
              "      <td>SINGLE FAMILY HOUSE</td>\n",
              "    </tr>\n",
              "    <tr>\n",
              "      <th>1</th>\n",
              "      <td>201600000594484</td>\n",
              "      <td>11/01/2015  00:00</td>\n",
              "      <td>NaN</td>\n",
              "      <td>RAPE</td>\n",
              "      <td>13XX E ALMERIA RD</td>\n",
              "      <td>85006.0</td>\n",
              "      <td>SINGLE FAMILY HOUSE</td>\n",
              "    </tr>\n",
              "    <tr>\n",
              "      <th>2</th>\n",
              "      <td>201500002102327</td>\n",
              "      <td>11/01/2015  00:00</td>\n",
              "      <td>11/01/2015  09:00</td>\n",
              "      <td>LARCENY-THEFT</td>\n",
              "      <td>51XX N 15TH ST</td>\n",
              "      <td>85014.0</td>\n",
              "      <td>APARTMENT</td>\n",
              "    </tr>\n",
              "    <tr>\n",
              "      <th>3</th>\n",
              "      <td>201500002101405</td>\n",
              "      <td>11/01/2015  00:00</td>\n",
              "      <td>11/01/2015  05:00</td>\n",
              "      <td>MOTOR VEHICLE THEFT</td>\n",
              "      <td>102XX W MEDLOCK AVE</td>\n",
              "      <td>85307.0</td>\n",
              "      <td>SINGLE FAMILY HOUSE</td>\n",
              "    </tr>\n",
              "    <tr>\n",
              "      <th>4</th>\n",
              "      <td>201500002102668</td>\n",
              "      <td>11/01/2015  00:00</td>\n",
              "      <td>11/01/2015  11:50</td>\n",
              "      <td>MOTOR VEHICLE THEFT</td>\n",
              "      <td>69XX W WOOD ST</td>\n",
              "      <td>85043.0</td>\n",
              "      <td>SINGLE FAMILY HOUSE</td>\n",
              "    </tr>\n",
              "  </tbody>\n",
              "</table>\n",
              "</div>\n",
              "      <button class=\"colab-df-convert\" onclick=\"convertToInteractive('df-1c7499f4-2a82-4fca-8295-c54f5d8586e6')\"\n",
              "              title=\"Convert this dataframe to an interactive table.\"\n",
              "              style=\"display:none;\">\n",
              "        \n",
              "  <svg xmlns=\"http://www.w3.org/2000/svg\" height=\"24px\"viewBox=\"0 0 24 24\"\n",
              "       width=\"24px\">\n",
              "    <path d=\"M0 0h24v24H0V0z\" fill=\"none\"/>\n",
              "    <path d=\"M18.56 5.44l.94 2.06.94-2.06 2.06-.94-2.06-.94-.94-2.06-.94 2.06-2.06.94zm-11 1L8.5 8.5l.94-2.06 2.06-.94-2.06-.94L8.5 2.5l-.94 2.06-2.06.94zm10 10l.94 2.06.94-2.06 2.06-.94-2.06-.94-.94-2.06-.94 2.06-2.06.94z\"/><path d=\"M17.41 7.96l-1.37-1.37c-.4-.4-.92-.59-1.43-.59-.52 0-1.04.2-1.43.59L10.3 9.45l-7.72 7.72c-.78.78-.78 2.05 0 2.83L4 21.41c.39.39.9.59 1.41.59.51 0 1.02-.2 1.41-.59l7.78-7.78 2.81-2.81c.8-.78.8-2.07 0-2.86zM5.41 20L4 18.59l7.72-7.72 1.47 1.35L5.41 20z\"/>\n",
              "  </svg>\n",
              "      </button>\n",
              "      \n",
              "  <style>\n",
              "    .colab-df-container {\n",
              "      display:flex;\n",
              "      flex-wrap:wrap;\n",
              "      gap: 12px;\n",
              "    }\n",
              "\n",
              "    .colab-df-convert {\n",
              "      background-color: #E8F0FE;\n",
              "      border: none;\n",
              "      border-radius: 50%;\n",
              "      cursor: pointer;\n",
              "      display: none;\n",
              "      fill: #1967D2;\n",
              "      height: 32px;\n",
              "      padding: 0 0 0 0;\n",
              "      width: 32px;\n",
              "    }\n",
              "\n",
              "    .colab-df-convert:hover {\n",
              "      background-color: #E2EBFA;\n",
              "      box-shadow: 0px 1px 2px rgba(60, 64, 67, 0.3), 0px 1px 3px 1px rgba(60, 64, 67, 0.15);\n",
              "      fill: #174EA6;\n",
              "    }\n",
              "\n",
              "    [theme=dark] .colab-df-convert {\n",
              "      background-color: #3B4455;\n",
              "      fill: #D2E3FC;\n",
              "    }\n",
              "\n",
              "    [theme=dark] .colab-df-convert:hover {\n",
              "      background-color: #434B5C;\n",
              "      box-shadow: 0px 1px 3px 1px rgba(0, 0, 0, 0.15);\n",
              "      filter: drop-shadow(0px 1px 2px rgba(0, 0, 0, 0.3));\n",
              "      fill: #FFFFFF;\n",
              "    }\n",
              "  </style>\n",
              "\n",
              "      <script>\n",
              "        const buttonEl =\n",
              "          document.querySelector('#df-1c7499f4-2a82-4fca-8295-c54f5d8586e6 button.colab-df-convert');\n",
              "        buttonEl.style.display =\n",
              "          google.colab.kernel.accessAllowed ? 'block' : 'none';\n",
              "\n",
              "        async function convertToInteractive(key) {\n",
              "          const element = document.querySelector('#df-1c7499f4-2a82-4fca-8295-c54f5d8586e6');\n",
              "          const dataTable =\n",
              "            await google.colab.kernel.invokeFunction('convertToInteractive',\n",
              "                                                     [key], {});\n",
              "          if (!dataTable) return;\n",
              "\n",
              "          const docLinkHtml = 'Like what you see? Visit the ' +\n",
              "            '<a target=\"_blank\" href=https://colab.research.google.com/notebooks/data_table.ipynb>data table notebook</a>'\n",
              "            + ' to learn more about interactive tables.';\n",
              "          element.innerHTML = '';\n",
              "          dataTable['output_type'] = 'display_data';\n",
              "          await google.colab.output.renderOutput(dataTable, element);\n",
              "          const docLink = document.createElement('div');\n",
              "          docLink.innerHTML = docLinkHtml;\n",
              "          element.appendChild(docLink);\n",
              "        }\n",
              "      </script>\n",
              "    </div>\n",
              "  </div>\n",
              "  "
            ],
            "text/plain": [
              "        INC NUMBER        OCCURRED ON  ...      ZIP         PREMISE TYPE\n",
              "0  201600000052855  11/01/2015  00:00  ...  85029.0  SINGLE FAMILY HOUSE\n",
              "1  201600000594484  11/01/2015  00:00  ...  85006.0  SINGLE FAMILY HOUSE\n",
              "2  201500002102327  11/01/2015  00:00  ...  85014.0            APARTMENT\n",
              "3  201500002101405  11/01/2015  00:00  ...  85307.0  SINGLE FAMILY HOUSE\n",
              "4  201500002102668  11/01/2015  00:00  ...  85043.0  SINGLE FAMILY HOUSE\n",
              "\n",
              "[5 rows x 7 columns]"
            ]
          },
          "metadata": {},
          "execution_count": 4
        }
      ]
    },
    {
      "cell_type": "code",
      "source": [
        "#I did not want to handle spaces in the column names, so they were renamed with an underscore instead.\n",
        "crimes.rename(columns={\"INC NUMBER\": \"INC_NUMBER\", \"OCCURRED ON\": \"OCCURRED_ON\", \"OCCURRED TO\": \"OCCURRED_TO\", \"UCR CRIME CATEGORY\": \"UCR_CRIME_CATEGORY\", \"100 BLOCK ADDR\": \"100_BLOCK_ADDR\", \"ZIP\": \"ZIP\", \"PREMISE TYPE\": \"PREMISE_TYPE\"},inplace=True)"
      ],
      "metadata": {
        "id": "3LSvab8FQTz4"
      },
      "execution_count": 5,
      "outputs": []
    },
    {
      "cell_type": "code",
      "source": [
        "crimes.columns   #Check new column names."
      ],
      "metadata": {
        "colab": {
          "base_uri": "https://localhost:8080/"
        },
        "id": "B0UXuM_4Q_5_",
        "outputId": "c401e70e-ff23-49b2-b85f-e4993650129d"
      },
      "execution_count": 6,
      "outputs": [
        {
          "output_type": "execute_result",
          "data": {
            "text/plain": [
              "Index(['INC_NUMBER', 'OCCURRED_ON', 'OCCURRED_TO', 'UCR_CRIME_CATEGORY',\n",
              "       '100_BLOCK_ADDR', 'ZIP', 'PREMISE_TYPE'],\n",
              "      dtype='object')"
            ]
          },
          "metadata": {},
          "execution_count": 6
        }
      ]
    },
    {
      "cell_type": "code",
      "source": [
        "crimes.info()   #Check types of each column."
      ],
      "metadata": {
        "colab": {
          "base_uri": "https://localhost:8080/"
        },
        "id": "in_fq4LARHA6",
        "outputId": "a9ddd578-37bb-4184-c9d7-9f582ab7c723"
      },
      "execution_count": 7,
      "outputs": [
        {
          "output_type": "stream",
          "name": "stdout",
          "text": [
            "<class 'pandas.core.frame.DataFrame'>\n",
            "RangeIndex: 131676 entries, 0 to 131675\n",
            "Data columns (total 7 columns):\n",
            " #   Column              Non-Null Count   Dtype  \n",
            "---  ------              --------------   -----  \n",
            " 0   INC_NUMBER          131676 non-null  object \n",
            " 1   OCCURRED_ON         131360 non-null  object \n",
            " 2   OCCURRED_TO         93174 non-null   object \n",
            " 3   UCR_CRIME_CATEGORY  131676 non-null  object \n",
            " 4   100_BLOCK_ADDR      131676 non-null  object \n",
            " 5   ZIP                 131673 non-null  float64\n",
            " 6   PREMISE_TYPE        130919 non-null  object \n",
            "dtypes: float64(1), object(6)\n",
            "memory usage: 7.0+ MB\n"
          ]
        }
      ]
    },
    {
      "cell_type": "markdown",
      "source": [
        "**Analyzing categories of crimes by zip code and location types.**"
      ],
      "metadata": {
        "id": "_TjH_eRrSav_"
      }
    },
    {
      "cell_type": "markdown",
      "source": [
        "Crime Categories"
      ],
      "metadata": {
        "id": "zTqKm-TdXCGv"
      }
    },
    {
      "cell_type": "code",
      "source": [
        "crimes.UCR_CRIME_CATEGORY.value_counts()   #Check count of each crime category."
      ],
      "metadata": {
        "colab": {
          "base_uri": "https://localhost:8080/"
        },
        "id": "YHSHqnAsRfib",
        "outputId": "256e1c29-5078-4535-e421-9d0bcc5a6c66"
      },
      "execution_count": 8,
      "outputs": [
        {
          "output_type": "execute_result",
          "data": {
            "text/plain": [
              "LARCENY-THEFT                            66216\n",
              "BURGLARY                                 23647\n",
              "MOTOR VEHICLE THEFT                      14391\n",
              "DRUG OFFENSE                              9572\n",
              "AGGRAVATED ASSAULT                        9306\n",
              "ROBBERY                                   5640\n",
              "RAPE                                      1981\n",
              "ARSON                                      634\n",
              "MURDER AND NON-NEGLIGENT MANSLAUGHTER      289\n",
              "Name: UCR_CRIME_CATEGORY, dtype: int64"
            ]
          },
          "metadata": {},
          "execution_count": 8
        }
      ]
    },
    {
      "cell_type": "code",
      "source": [
        "nan_ccateg_values = crimes[crimes['UCR_CRIME_CATEGORY'].isna()]   #Check for 'NaN' values in crime category column.\n",
        "nan_ccateg_values.UCR_CRIME_CATEGORY   #Display 'NaN' records found."
      ],
      "metadata": {
        "colab": {
          "base_uri": "https://localhost:8080/"
        },
        "id": "Fg_srLwNWZvF",
        "outputId": "f80e0aa0-cef0-4542-e8ac-352f8ebaeb60"
      },
      "execution_count": 9,
      "outputs": [
        {
          "output_type": "execute_result",
          "data": {
            "text/plain": [
              "Series([], Name: UCR_CRIME_CATEGORY, dtype: object)"
            ]
          },
          "metadata": {},
          "execution_count": 9
        }
      ]
    },
    {
      "cell_type": "markdown",
      "source": [
        "Location Types"
      ],
      "metadata": {
        "id": "Pz3wmYdLXGRA"
      }
    },
    {
      "cell_type": "code",
      "source": [
        "crimes.PREMISE_TYPE.value_counts()   #Check incidence count for each location type."
      ],
      "metadata": {
        "colab": {
          "base_uri": "https://localhost:8080/"
        },
        "id": "7U5I2ORMTlgE",
        "outputId": "815e4d7e-fe6a-4ad9-cfed-37f7b79b370c"
      },
      "execution_count": 10,
      "outputs": [
        {
          "output_type": "execute_result",
          "data": {
            "text/plain": [
              "SINGLE FAMILY HOUSE                    25329\n",
              "APARTMENT                              14957\n",
              "PARKING LOT                            14148\n",
              "STREET / ROADWAY / ALLEY / SIDEWALK    11596\n",
              "RETAIL BUSINESS                        10852\n",
              "                                       ...  \n",
              "FARM FACILITY                              3\n",
              "GAMBLING FACILITY/CASINO/RACE TRACK        2\n",
              "LAKE / WATERWAY / BEACH                    1\n",
              "TRIBAL LANDS                               1\n",
              "REST AREA                                  1\n",
              "Name: PREMISE_TYPE, Length: 93, dtype: int64"
            ]
          },
          "metadata": {},
          "execution_count": 10
        }
      ]
    },
    {
      "cell_type": "code",
      "source": [
        "nan_location_values = crimes[crimes['PREMISE_TYPE'].isna()]   #Check for 'NaN' values in location column.\n",
        "nan_location_values.PREMISE_TYPE   #Display 'NaN' records found."
      ],
      "metadata": {
        "colab": {
          "base_uri": "https://localhost:8080/"
        },
        "id": "qQrffozbVf7t",
        "outputId": "bb9f4aae-0d3a-4c4b-9609-475ad1a3e01f"
      },
      "execution_count": 11,
      "outputs": [
        {
          "output_type": "execute_result",
          "data": {
            "text/plain": [
              "120       NaN\n",
              "214       NaN\n",
              "314       NaN\n",
              "325       NaN\n",
              "340       NaN\n",
              "         ... \n",
              "130540    NaN\n",
              "130653    NaN\n",
              "130820    NaN\n",
              "131436    NaN\n",
              "131467    NaN\n",
              "Name: PREMISE_TYPE, Length: 757, dtype: object"
            ]
          },
          "metadata": {},
          "execution_count": 11
        }
      ]
    },
    {
      "cell_type": "markdown",
      "source": [
        "ZIP Codes"
      ],
      "metadata": {
        "id": "a2ZFEgy0XJKk"
      }
    },
    {
      "cell_type": "code",
      "source": [
        "crimes.ZIP.value_counts()   #Check incidence count for each zip code."
      ],
      "metadata": {
        "colab": {
          "base_uri": "https://localhost:8080/"
        },
        "id": "sdmOxp9tTMCo",
        "outputId": "ae3fce59-4793-457e-bb66-7a7ebd254425"
      },
      "execution_count": 12,
      "outputs": [
        {
          "output_type": "execute_result",
          "data": {
            "text/plain": [
              "85015.0    6963\n",
              "85008.0    6320\n",
              "85009.0    5513\n",
              "85041.0    5477\n",
              "85051.0    5389\n",
              "           ... \n",
              "85203.0       1\n",
              "85266.0       1\n",
              "85381.0       1\n",
              "85268.0       1\n",
              "85212.0       1\n",
              "Name: ZIP, Length: 98, dtype: int64"
            ]
          },
          "metadata": {},
          "execution_count": 12
        }
      ]
    },
    {
      "cell_type": "code",
      "source": [
        "nan_zip_values = crimes[crimes['ZIP'].isna()]   #Check for 'NaN' values in ZIP column.\n",
        "nan_zip_values.ZIP   #Display 'NaN' records found."
      ],
      "metadata": {
        "colab": {
          "base_uri": "https://localhost:8080/"
        },
        "id": "yI0tlJMxTtLR",
        "outputId": "7a069fa6-e175-450d-ee53-956b99035f58"
      },
      "execution_count": 13,
      "outputs": [
        {
          "output_type": "execute_result",
          "data": {
            "text/plain": [
              "63086   NaN\n",
              "79792   NaN\n",
              "82369   NaN\n",
              "Name: ZIP, dtype: float64"
            ]
          },
          "metadata": {},
          "execution_count": 13
        }
      ]
    },
    {
      "cell_type": "code",
      "source": [
        "crimes.loc[crimes.ZIP.isna(),'ZIP']=0   #Enter value 0 for each 'NaN' ZIP found."
      ],
      "metadata": {
        "id": "3brZjiw0VKfH"
      },
      "execution_count": 14,
      "outputs": []
    },
    {
      "cell_type": "code",
      "source": [
        "crimes.ZIP.value_counts()   #Re-check incidence count for each zip code after removal of 'NaN values."
      ],
      "metadata": {
        "colab": {
          "base_uri": "https://localhost:8080/"
        },
        "id": "lOEsqBfbVyBr",
        "outputId": "7cec655e-4791-4d73-e7da-7397f84bae2a"
      },
      "execution_count": 15,
      "outputs": [
        {
          "output_type": "execute_result",
          "data": {
            "text/plain": [
              "85015.0    6963\n",
              "85008.0    6320\n",
              "85009.0    5513\n",
              "85041.0    5477\n",
              "85051.0    5389\n",
              "           ... \n",
              "85203.0       1\n",
              "85266.0       1\n",
              "85381.0       1\n",
              "85268.0       1\n",
              "85212.0       1\n",
              "Name: ZIP, Length: 99, dtype: int64"
            ]
          },
          "metadata": {},
          "execution_count": 15
        }
      ]
    },
    {
      "cell_type": "code",
      "source": [
        "nzip = crimes.groupby('ZIP')   #Group records by ZIP codes."
      ],
      "metadata": {
        "id": "8wsRGAy7XurP"
      },
      "execution_count": 16,
      "outputs": []
    },
    {
      "cell_type": "code",
      "source": [
        "nzip.size()   #Another check for incidence count by ZIP codes - sorted ascendently."
      ],
      "metadata": {
        "colab": {
          "base_uri": "https://localhost:8080/"
        },
        "id": "m0mdW_D6YAaZ",
        "outputId": "46a73084-a84d-4b1e-f4d7-6a861b77c413"
      },
      "execution_count": 17,
      "outputs": [
        {
          "output_type": "execute_result",
          "data": {
            "text/plain": [
              "ZIP\n",
              "0.0           3\n",
              "85003.0    1513\n",
              "85004.0    1650\n",
              "85006.0    2661\n",
              "85007.0    2000\n",
              "           ... \n",
              "85382.0       2\n",
              "85383.0       2\n",
              "85392.0       8\n",
              "85395.0       2\n",
              "85396.0       4\n",
              "Length: 99, dtype: int64"
            ]
          },
          "metadata": {},
          "execution_count": 17
        }
      ]
    },
    {
      "cell_type": "code",
      "source": [
        "nzip_output = nzip.UCR_CRIME_CATEGORY.value_counts()   #Count crime categories for each ZIP code and store results in 'nzip_output'.\n",
        "nzip_output"
      ],
      "metadata": {
        "colab": {
          "base_uri": "https://localhost:8080/"
        },
        "id": "p98loAU_YSES",
        "outputId": "7648d382-94f0-46ea-c231-03eca68e3ac4"
      },
      "execution_count": 18,
      "outputs": [
        {
          "output_type": "execute_result",
          "data": {
            "text/plain": [
              "ZIP      UCR_CRIME_CATEGORY \n",
              "0.0      LARCENY-THEFT            2\n",
              "         RAPE                     1\n",
              "85003.0  LARCENY-THEFT          758\n",
              "         DRUG OFFENSE           194\n",
              "         BURGLARY               179\n",
              "                               ... \n",
              "85395.0  AGGRAVATED ASSAULT       1\n",
              "         RAPE                     1\n",
              "85396.0  LARCENY-THEFT            2\n",
              "         BURGLARY                 1\n",
              "         MOTOR VEHICLE THEFT      1\n",
              "Name: UCR_CRIME_CATEGORY, Length: 563, dtype: int64"
            ]
          },
          "metadata": {},
          "execution_count": 18
        }
      ]
    },
    {
      "cell_type": "code",
      "source": [
        "nzip_output.to_csv('nzip_output.csv')   #Export results to csv file.\n",
        "    #Obs.: I was not able to find another way to access only the count values (without the whole record).\n",
        "    #The solution I found was to export everything, and they reload as a separate dataframe."
      ],
      "metadata": {
        "id": "dl009lQqY_27"
      },
      "execution_count": 19,
      "outputs": []
    },
    {
      "cell_type": "code",
      "source": [
        "zip_cat = pd.read_csv('nzip_output.csv')   #Load 'nzip_output.csv' onto zip_cat."
      ],
      "metadata": {
        "id": "P0PN7N54aKCg"
      },
      "execution_count": 20,
      "outputs": []
    },
    {
      "cell_type": "code",
      "source": [
        "zip_cat.head()"
      ],
      "metadata": {
        "colab": {
          "base_uri": "https://localhost:8080/",
          "height": 206
        },
        "id": "AGg4ylega5kZ",
        "outputId": "eb3b4ca9-52ba-4621-d2b8-43899dd35b7c"
      },
      "execution_count": 21,
      "outputs": [
        {
          "output_type": "execute_result",
          "data": {
            "text/html": [
              "\n",
              "  <div id=\"df-4b7e400d-cf59-4be8-9fbe-8489fdab2f95\">\n",
              "    <div class=\"colab-df-container\">\n",
              "      <div>\n",
              "<style scoped>\n",
              "    .dataframe tbody tr th:only-of-type {\n",
              "        vertical-align: middle;\n",
              "    }\n",
              "\n",
              "    .dataframe tbody tr th {\n",
              "        vertical-align: top;\n",
              "    }\n",
              "\n",
              "    .dataframe thead th {\n",
              "        text-align: right;\n",
              "    }\n",
              "</style>\n",
              "<table border=\"1\" class=\"dataframe\">\n",
              "  <thead>\n",
              "    <tr style=\"text-align: right;\">\n",
              "      <th></th>\n",
              "      <th>ZIP</th>\n",
              "      <th>UCR_CRIME_CATEGORY</th>\n",
              "      <th>UCR_CRIME_CATEGORY.1</th>\n",
              "    </tr>\n",
              "  </thead>\n",
              "  <tbody>\n",
              "    <tr>\n",
              "      <th>0</th>\n",
              "      <td>0.0</td>\n",
              "      <td>LARCENY-THEFT</td>\n",
              "      <td>2</td>\n",
              "    </tr>\n",
              "    <tr>\n",
              "      <th>1</th>\n",
              "      <td>0.0</td>\n",
              "      <td>RAPE</td>\n",
              "      <td>1</td>\n",
              "    </tr>\n",
              "    <tr>\n",
              "      <th>2</th>\n",
              "      <td>85003.0</td>\n",
              "      <td>LARCENY-THEFT</td>\n",
              "      <td>758</td>\n",
              "    </tr>\n",
              "    <tr>\n",
              "      <th>3</th>\n",
              "      <td>85003.0</td>\n",
              "      <td>DRUG OFFENSE</td>\n",
              "      <td>194</td>\n",
              "    </tr>\n",
              "    <tr>\n",
              "      <th>4</th>\n",
              "      <td>85003.0</td>\n",
              "      <td>BURGLARY</td>\n",
              "      <td>179</td>\n",
              "    </tr>\n",
              "  </tbody>\n",
              "</table>\n",
              "</div>\n",
              "      <button class=\"colab-df-convert\" onclick=\"convertToInteractive('df-4b7e400d-cf59-4be8-9fbe-8489fdab2f95')\"\n",
              "              title=\"Convert this dataframe to an interactive table.\"\n",
              "              style=\"display:none;\">\n",
              "        \n",
              "  <svg xmlns=\"http://www.w3.org/2000/svg\" height=\"24px\"viewBox=\"0 0 24 24\"\n",
              "       width=\"24px\">\n",
              "    <path d=\"M0 0h24v24H0V0z\" fill=\"none\"/>\n",
              "    <path d=\"M18.56 5.44l.94 2.06.94-2.06 2.06-.94-2.06-.94-.94-2.06-.94 2.06-2.06.94zm-11 1L8.5 8.5l.94-2.06 2.06-.94-2.06-.94L8.5 2.5l-.94 2.06-2.06.94zm10 10l.94 2.06.94-2.06 2.06-.94-2.06-.94-.94-2.06-.94 2.06-2.06.94z\"/><path d=\"M17.41 7.96l-1.37-1.37c-.4-.4-.92-.59-1.43-.59-.52 0-1.04.2-1.43.59L10.3 9.45l-7.72 7.72c-.78.78-.78 2.05 0 2.83L4 21.41c.39.39.9.59 1.41.59.51 0 1.02-.2 1.41-.59l7.78-7.78 2.81-2.81c.8-.78.8-2.07 0-2.86zM5.41 20L4 18.59l7.72-7.72 1.47 1.35L5.41 20z\"/>\n",
              "  </svg>\n",
              "      </button>\n",
              "      \n",
              "  <style>\n",
              "    .colab-df-container {\n",
              "      display:flex;\n",
              "      flex-wrap:wrap;\n",
              "      gap: 12px;\n",
              "    }\n",
              "\n",
              "    .colab-df-convert {\n",
              "      background-color: #E8F0FE;\n",
              "      border: none;\n",
              "      border-radius: 50%;\n",
              "      cursor: pointer;\n",
              "      display: none;\n",
              "      fill: #1967D2;\n",
              "      height: 32px;\n",
              "      padding: 0 0 0 0;\n",
              "      width: 32px;\n",
              "    }\n",
              "\n",
              "    .colab-df-convert:hover {\n",
              "      background-color: #E2EBFA;\n",
              "      box-shadow: 0px 1px 2px rgba(60, 64, 67, 0.3), 0px 1px 3px 1px rgba(60, 64, 67, 0.15);\n",
              "      fill: #174EA6;\n",
              "    }\n",
              "\n",
              "    [theme=dark] .colab-df-convert {\n",
              "      background-color: #3B4455;\n",
              "      fill: #D2E3FC;\n",
              "    }\n",
              "\n",
              "    [theme=dark] .colab-df-convert:hover {\n",
              "      background-color: #434B5C;\n",
              "      box-shadow: 0px 1px 3px 1px rgba(0, 0, 0, 0.15);\n",
              "      filter: drop-shadow(0px 1px 2px rgba(0, 0, 0, 0.3));\n",
              "      fill: #FFFFFF;\n",
              "    }\n",
              "  </style>\n",
              "\n",
              "      <script>\n",
              "        const buttonEl =\n",
              "          document.querySelector('#df-4b7e400d-cf59-4be8-9fbe-8489fdab2f95 button.colab-df-convert');\n",
              "        buttonEl.style.display =\n",
              "          google.colab.kernel.accessAllowed ? 'block' : 'none';\n",
              "\n",
              "        async function convertToInteractive(key) {\n",
              "          const element = document.querySelector('#df-4b7e400d-cf59-4be8-9fbe-8489fdab2f95');\n",
              "          const dataTable =\n",
              "            await google.colab.kernel.invokeFunction('convertToInteractive',\n",
              "                                                     [key], {});\n",
              "          if (!dataTable) return;\n",
              "\n",
              "          const docLinkHtml = 'Like what you see? Visit the ' +\n",
              "            '<a target=\"_blank\" href=https://colab.research.google.com/notebooks/data_table.ipynb>data table notebook</a>'\n",
              "            + ' to learn more about interactive tables.';\n",
              "          element.innerHTML = '';\n",
              "          dataTable['output_type'] = 'display_data';\n",
              "          await google.colab.output.renderOutput(dataTable, element);\n",
              "          const docLink = document.createElement('div');\n",
              "          docLink.innerHTML = docLinkHtml;\n",
              "          element.appendChild(docLink);\n",
              "        }\n",
              "      </script>\n",
              "    </div>\n",
              "  </div>\n",
              "  "
            ],
            "text/plain": [
              "       ZIP UCR_CRIME_CATEGORY  UCR_CRIME_CATEGORY.1\n",
              "0      0.0      LARCENY-THEFT                     2\n",
              "1      0.0               RAPE                     1\n",
              "2  85003.0      LARCENY-THEFT                   758\n",
              "3  85003.0       DRUG OFFENSE                   194\n",
              "4  85003.0           BURGLARY                   179"
            ]
          },
          "metadata": {},
          "execution_count": 21
        }
      ]
    },
    {
      "cell_type": "code",
      "source": [
        "#Rename count column.\n",
        "zip_cat.rename(columns={\"ZIP\": \"ZIP\", \"UCR_CRIME_CATEGORY\": \"UCR_CRIME_CATEGORY\", \"UCR_CRIME_CATEGORY.1\": \"CATEGORY_COUNT\"},inplace=True)"
      ],
      "metadata": {
        "id": "KkXkLVjEa8kC"
      },
      "execution_count": 22,
      "outputs": []
    },
    {
      "cell_type": "code",
      "source": [
        "zip_cat.columns"
      ],
      "metadata": {
        "colab": {
          "base_uri": "https://localhost:8080/"
        },
        "id": "dUhwii3Tbyjf",
        "outputId": "35f2b2a6-3f1a-46c7-93eb-a400baf62987"
      },
      "execution_count": 23,
      "outputs": [
        {
          "output_type": "execute_result",
          "data": {
            "text/plain": [
              "Index(['ZIP', 'UCR_CRIME_CATEGORY', 'CATEGORY_COUNT'], dtype='object')"
            ]
          },
          "metadata": {},
          "execution_count": 23
        }
      ]
    },
    {
      "cell_type": "code",
      "source": [
        "ncat = crimes.groupby('UCR_CRIME_CATEGORY')   #Group records by crime category."
      ],
      "metadata": {
        "id": "ENGXaMg1cLu8"
      },
      "execution_count": 24,
      "outputs": []
    },
    {
      "cell_type": "code",
      "source": [
        "ncat.size()   #Count incidences by crime categories."
      ],
      "metadata": {
        "colab": {
          "base_uri": "https://localhost:8080/"
        },
        "id": "QXZ56yUVDs_n",
        "outputId": "9f172af2-bcaa-4003-c9b3-676e77493b32"
      },
      "execution_count": 25,
      "outputs": [
        {
          "output_type": "execute_result",
          "data": {
            "text/plain": [
              "UCR_CRIME_CATEGORY\n",
              "AGGRAVATED ASSAULT                        9306\n",
              "ARSON                                      634\n",
              "BURGLARY                                 23647\n",
              "DRUG OFFENSE                              9572\n",
              "LARCENY-THEFT                            66216\n",
              "MOTOR VEHICLE THEFT                      14391\n",
              "MURDER AND NON-NEGLIGENT MANSLAUGHTER      289\n",
              "RAPE                                      1981\n",
              "ROBBERY                                   5640\n",
              "dtype: int64"
            ]
          },
          "metadata": {},
          "execution_count": 25
        }
      ]
    },
    {
      "cell_type": "code",
      "source": [
        "ncat_output = ncat.ZIP.value_counts()   #Count ZIP codes for each crime category and store results in 'ncat_output'.\n",
        "ncat_output.to_csv('ncat_output.csv')   #Export results to csv file.\n",
        "ncat_output"
      ],
      "metadata": {
        "colab": {
          "base_uri": "https://localhost:8080/"
        },
        "id": "-fy23WrEDzch",
        "outputId": "9db57e99-9702-440c-f7e6-db11ac7cd6bd"
      },
      "execution_count": 26,
      "outputs": [
        {
          "output_type": "execute_result",
          "data": {
            "text/plain": [
              "UCR_CRIME_CATEGORY  ZIP    \n",
              "AGGRAVATED ASSAULT  85008.0    516\n",
              "                    85009.0    482\n",
              "                    85015.0    476\n",
              "                    85017.0    476\n",
              "                    85041.0    429\n",
              "                              ... \n",
              "ROBBERY             85301.0      1\n",
              "                    85303.0      1\n",
              "                    85331.0      1\n",
              "                    85337.0      1\n",
              "                    85345.0      1\n",
              "Name: ZIP, Length: 563, dtype: int64"
            ]
          },
          "metadata": {},
          "execution_count": 26
        }
      ]
    },
    {
      "cell_type": "code",
      "source": [
        "cat_zip = pd.read_csv('ncat_output.csv')   #Load 'ncat_output.csv' onto cat_zip."
      ],
      "metadata": {
        "id": "Eq9hnsFDEj8v"
      },
      "execution_count": 27,
      "outputs": []
    },
    {
      "cell_type": "code",
      "source": [
        "cat_zip.head()"
      ],
      "metadata": {
        "colab": {
          "base_uri": "https://localhost:8080/",
          "height": 206
        },
        "id": "UWxzh_wTFHlS",
        "outputId": "96650390-52f8-477c-ff02-00bf68c3f527"
      },
      "execution_count": 28,
      "outputs": [
        {
          "output_type": "execute_result",
          "data": {
            "text/html": [
              "\n",
              "  <div id=\"df-2d0b0efd-f3c8-426d-9999-8c5a3a5c4d4e\">\n",
              "    <div class=\"colab-df-container\">\n",
              "      <div>\n",
              "<style scoped>\n",
              "    .dataframe tbody tr th:only-of-type {\n",
              "        vertical-align: middle;\n",
              "    }\n",
              "\n",
              "    .dataframe tbody tr th {\n",
              "        vertical-align: top;\n",
              "    }\n",
              "\n",
              "    .dataframe thead th {\n",
              "        text-align: right;\n",
              "    }\n",
              "</style>\n",
              "<table border=\"1\" class=\"dataframe\">\n",
              "  <thead>\n",
              "    <tr style=\"text-align: right;\">\n",
              "      <th></th>\n",
              "      <th>UCR_CRIME_CATEGORY</th>\n",
              "      <th>ZIP</th>\n",
              "      <th>ZIP.1</th>\n",
              "    </tr>\n",
              "  </thead>\n",
              "  <tbody>\n",
              "    <tr>\n",
              "      <th>0</th>\n",
              "      <td>AGGRAVATED ASSAULT</td>\n",
              "      <td>85008.0</td>\n",
              "      <td>516</td>\n",
              "    </tr>\n",
              "    <tr>\n",
              "      <th>1</th>\n",
              "      <td>AGGRAVATED ASSAULT</td>\n",
              "      <td>85009.0</td>\n",
              "      <td>482</td>\n",
              "    </tr>\n",
              "    <tr>\n",
              "      <th>2</th>\n",
              "      <td>AGGRAVATED ASSAULT</td>\n",
              "      <td>85015.0</td>\n",
              "      <td>476</td>\n",
              "    </tr>\n",
              "    <tr>\n",
              "      <th>3</th>\n",
              "      <td>AGGRAVATED ASSAULT</td>\n",
              "      <td>85017.0</td>\n",
              "      <td>476</td>\n",
              "    </tr>\n",
              "    <tr>\n",
              "      <th>4</th>\n",
              "      <td>AGGRAVATED ASSAULT</td>\n",
              "      <td>85041.0</td>\n",
              "      <td>429</td>\n",
              "    </tr>\n",
              "  </tbody>\n",
              "</table>\n",
              "</div>\n",
              "      <button class=\"colab-df-convert\" onclick=\"convertToInteractive('df-2d0b0efd-f3c8-426d-9999-8c5a3a5c4d4e')\"\n",
              "              title=\"Convert this dataframe to an interactive table.\"\n",
              "              style=\"display:none;\">\n",
              "        \n",
              "  <svg xmlns=\"http://www.w3.org/2000/svg\" height=\"24px\"viewBox=\"0 0 24 24\"\n",
              "       width=\"24px\">\n",
              "    <path d=\"M0 0h24v24H0V0z\" fill=\"none\"/>\n",
              "    <path d=\"M18.56 5.44l.94 2.06.94-2.06 2.06-.94-2.06-.94-.94-2.06-.94 2.06-2.06.94zm-11 1L8.5 8.5l.94-2.06 2.06-.94-2.06-.94L8.5 2.5l-.94 2.06-2.06.94zm10 10l.94 2.06.94-2.06 2.06-.94-2.06-.94-.94-2.06-.94 2.06-2.06.94z\"/><path d=\"M17.41 7.96l-1.37-1.37c-.4-.4-.92-.59-1.43-.59-.52 0-1.04.2-1.43.59L10.3 9.45l-7.72 7.72c-.78.78-.78 2.05 0 2.83L4 21.41c.39.39.9.59 1.41.59.51 0 1.02-.2 1.41-.59l7.78-7.78 2.81-2.81c.8-.78.8-2.07 0-2.86zM5.41 20L4 18.59l7.72-7.72 1.47 1.35L5.41 20z\"/>\n",
              "  </svg>\n",
              "      </button>\n",
              "      \n",
              "  <style>\n",
              "    .colab-df-container {\n",
              "      display:flex;\n",
              "      flex-wrap:wrap;\n",
              "      gap: 12px;\n",
              "    }\n",
              "\n",
              "    .colab-df-convert {\n",
              "      background-color: #E8F0FE;\n",
              "      border: none;\n",
              "      border-radius: 50%;\n",
              "      cursor: pointer;\n",
              "      display: none;\n",
              "      fill: #1967D2;\n",
              "      height: 32px;\n",
              "      padding: 0 0 0 0;\n",
              "      width: 32px;\n",
              "    }\n",
              "\n",
              "    .colab-df-convert:hover {\n",
              "      background-color: #E2EBFA;\n",
              "      box-shadow: 0px 1px 2px rgba(60, 64, 67, 0.3), 0px 1px 3px 1px rgba(60, 64, 67, 0.15);\n",
              "      fill: #174EA6;\n",
              "    }\n",
              "\n",
              "    [theme=dark] .colab-df-convert {\n",
              "      background-color: #3B4455;\n",
              "      fill: #D2E3FC;\n",
              "    }\n",
              "\n",
              "    [theme=dark] .colab-df-convert:hover {\n",
              "      background-color: #434B5C;\n",
              "      box-shadow: 0px 1px 3px 1px rgba(0, 0, 0, 0.15);\n",
              "      filter: drop-shadow(0px 1px 2px rgba(0, 0, 0, 0.3));\n",
              "      fill: #FFFFFF;\n",
              "    }\n",
              "  </style>\n",
              "\n",
              "      <script>\n",
              "        const buttonEl =\n",
              "          document.querySelector('#df-2d0b0efd-f3c8-426d-9999-8c5a3a5c4d4e button.colab-df-convert');\n",
              "        buttonEl.style.display =\n",
              "          google.colab.kernel.accessAllowed ? 'block' : 'none';\n",
              "\n",
              "        async function convertToInteractive(key) {\n",
              "          const element = document.querySelector('#df-2d0b0efd-f3c8-426d-9999-8c5a3a5c4d4e');\n",
              "          const dataTable =\n",
              "            await google.colab.kernel.invokeFunction('convertToInteractive',\n",
              "                                                     [key], {});\n",
              "          if (!dataTable) return;\n",
              "\n",
              "          const docLinkHtml = 'Like what you see? Visit the ' +\n",
              "            '<a target=\"_blank\" href=https://colab.research.google.com/notebooks/data_table.ipynb>data table notebook</a>'\n",
              "            + ' to learn more about interactive tables.';\n",
              "          element.innerHTML = '';\n",
              "          dataTable['output_type'] = 'display_data';\n",
              "          await google.colab.output.renderOutput(dataTable, element);\n",
              "          const docLink = document.createElement('div');\n",
              "          docLink.innerHTML = docLinkHtml;\n",
              "          element.appendChild(docLink);\n",
              "        }\n",
              "      </script>\n",
              "    </div>\n",
              "  </div>\n",
              "  "
            ],
            "text/plain": [
              "   UCR_CRIME_CATEGORY      ZIP  ZIP.1\n",
              "0  AGGRAVATED ASSAULT  85008.0    516\n",
              "1  AGGRAVATED ASSAULT  85009.0    482\n",
              "2  AGGRAVATED ASSAULT  85015.0    476\n",
              "3  AGGRAVATED ASSAULT  85017.0    476\n",
              "4  AGGRAVATED ASSAULT  85041.0    429"
            ]
          },
          "metadata": {},
          "execution_count": 28
        }
      ]
    },
    {
      "cell_type": "code",
      "source": [
        "#Rename count column.\n",
        "cat_zip.rename(columns={\"UCR_CRIME_CATEGORY\": \"UCR_CRIME_CATEGORY\", \"ZIP\": \"ZIP\", \"ZIP.1\": \"ZIP_COUNT\"},inplace=True)"
      ],
      "metadata": {
        "id": "7_MumrWVFOPM"
      },
      "execution_count": 29,
      "outputs": []
    },
    {
      "cell_type": "code",
      "source": [
        "cat_zip.columns   #Verify the renamed columns."
      ],
      "metadata": {
        "colab": {
          "base_uri": "https://localhost:8080/"
        },
        "id": "jsZCWtcTFipn",
        "outputId": "d5a4c3d8-7ec6-4251-897a-10850984b297"
      },
      "execution_count": 30,
      "outputs": [
        {
          "output_type": "execute_result",
          "data": {
            "text/plain": [
              "Index(['UCR_CRIME_CATEGORY', 'ZIP', 'ZIP_COUNT'], dtype='object')"
            ]
          },
          "metadata": {},
          "execution_count": 30
        }
      ]
    },
    {
      "cell_type": "code",
      "source": [
        "crimes.ZIP.nunique()   #Count unique values of ZIP codes."
      ],
      "metadata": {
        "colab": {
          "base_uri": "https://localhost:8080/"
        },
        "id": "yz5_qRMJFmpL",
        "outputId": "df903a3a-fb42-4c93-9693-dbae84081f2c"
      },
      "execution_count": 31,
      "outputs": [
        {
          "output_type": "execute_result",
          "data": {
            "text/plain": [
              "99"
            ]
          },
          "metadata": {},
          "execution_count": 31
        }
      ]
    },
    {
      "cell_type": "markdown",
      "source": [
        "For the purpose of this assignment, I will assume that adjacent ZIP codes in the list of unique ZIP codes belong to a same Phoenix region (this is a fictictious and arbitrary division). This will then be mapped according to the following 5 regions:\n",
        "\n",
        "*   Non-determined: [0] : (0)\n",
        "*   Central: [1 - 20] : (85003-85027)\n",
        "*   NW: [21 - 40] : (85028-85083)\n",
        "*   NE: [41 - 60] : (85085-85254)\n",
        "*   SW: [61 - 80] : (85255-85307)\n",
        "*   SE: [81 - 98] : (85308-85396)"
      ],
      "metadata": {
        "id": "OyNOkNQPI2SU"
      }
    },
    {
      "cell_type": "code",
      "source": [
        "#Initialize table with crimes by region (according to grouping of ZIP codes).\n",
        "crimes_by_region = [['Crime','Central','Northwest','Northeast','Southwest','Southeast'],\n",
        "                    ['AGGRAVATED ASSAULT',0,0,0,0,0],\n",
        "                    ['ARSON',0,0,0,0,0],\n",
        "                    ['BURGLARY',0,0,0,0,0],\n",
        "                    ['DRUG OFFENSE',0,0,0,0,0],\n",
        "                    ['LARCENY-THEFT',0,0,0,0,0],\n",
        "                    ['MOTOR VEHICLE THEFT',0,0,0,0,0],\n",
        "                    ['MURDER AND NON-NEGLIGENT MANSLAUGHTER',0,0,0,0,0],\n",
        "                    ['RAPE',0,0,0,0,0],\n",
        "                    ['ROBBERY',0,0,0,0,0]]"
      ],
      "metadata": {
        "id": "onNuGhEtXvBy"
      },
      "execution_count": 32,
      "outputs": []
    },
    {
      "cell_type": "code",
      "source": [
        "cat_zip_unique = cat_zip.UCR_CRIME_CATEGORY.unique()   #Create a list of unique crime categories\n",
        "cat_zip_unique"
      ],
      "metadata": {
        "colab": {
          "base_uri": "https://localhost:8080/"
        },
        "id": "d-tqp-e0Nl91",
        "outputId": "c7b1c266-f551-41c0-de22-c5b4e48554c2"
      },
      "execution_count": 33,
      "outputs": [
        {
          "output_type": "execute_result",
          "data": {
            "text/plain": [
              "array(['AGGRAVATED ASSAULT', 'ARSON', 'BURGLARY', 'DRUG OFFENSE',\n",
              "       'LARCENY-THEFT', 'MOTOR VEHICLE THEFT',\n",
              "       'MURDER AND NON-NEGLIGENT MANSLAUGHTER', 'RAPE', 'ROBBERY'],\n",
              "      dtype=object)"
            ]
          },
          "metadata": {},
          "execution_count": 33
        }
      ]
    },
    {
      "cell_type": "code",
      "source": [
        "# This section populates the table 'crimes_by_region' with the count of incidences for each one of the five predefined regions of Phoenix\n",
        "# according to the arbitrary grouping of ZIP codes.\n",
        "for r in range(len(cat_zip_unique)):\n",
        "  crime_cats = cat_zip[cat_zip.UCR_CRIME_CATEGORY==cat_zip_unique[r]]\n",
        "  calc_cats = crime_cats\n",
        "  calc_cats.index = pd.RangeIndex(len(calc_cats.index))\n",
        "  for i in range(len(calc_cats)):\n",
        "    if calc_cats.ZIP[i]>=85003 and calc_cats.ZIP[i]<=85027:\n",
        "      crimes_by_region[r+1][1] += calc_cats.ZIP_COUNT[i]\n",
        "    elif calc_cats.ZIP[i]>=85028 and calc_cats.ZIP[i]<=85083:\n",
        "      crimes_by_region[r+1][2] += calc_cats.ZIP_COUNT[i]\n",
        "    elif calc_cats.ZIP[i]>=85085 and calc_cats.ZIP[i]<=85254:\n",
        "      crimes_by_region[r+1][3] += calc_cats.ZIP_COUNT[i]\n",
        "    elif calc_cats.ZIP[i]>=85255 and calc_cats.ZIP[i]<=85307:\n",
        "      crimes_by_region[r+1][4] += calc_cats.ZIP_COUNT[i]\n",
        "    elif calc_cats.ZIP[i]>=85308 and calc_cats.ZIP[i]<=85396:\n",
        "      crimes_by_region[r+1][5] += calc_cats.ZIP_COUNT[i]"
      ],
      "metadata": {
        "id": "N02lgukmQaDe"
      },
      "execution_count": 34,
      "outputs": []
    },
    {
      "cell_type": "code",
      "source": [
        "for r in range(len(cat_zip_unique)):\n",
        "  print (crimes_by_region[r], '\\n')   #Check if table was populated correctly."
      ],
      "metadata": {
        "colab": {
          "base_uri": "https://localhost:8080/"
        },
        "id": "mdNfWOgzqByU",
        "outputId": "ef8597d5-39c7-493f-ce12-fa2a0b7879b8"
      },
      "execution_count": 35,
      "outputs": [
        {
          "output_type": "stream",
          "name": "stdout",
          "text": [
            "['Crime', 'Central', 'Northwest', 'Northeast', 'Southwest', 'Southeast'] \n",
            "\n",
            "['AGGRAVATED ASSAULT', 4749, 4010, 108, 61, 378] \n",
            "\n",
            "['ARSON', 323, 281, 8, 4, 18] \n",
            "\n",
            "['BURGLARY', 11085, 10622, 471, 222, 1247] \n",
            "\n",
            "['DRUG OFFENSE', 5635, 3586, 103, 75, 173] \n",
            "\n",
            "['LARCENY-THEFT', 33169, 27616, 1979, 598, 2852] \n",
            "\n",
            "['MOTOR VEHICLE THEFT', 6731, 6725, 161, 111, 663] \n",
            "\n",
            "['MURDER AND NON-NEGLIGENT MANSLAUGHTER', 143, 125, 0, 5, 16] \n",
            "\n",
            "['RAPE', 1059, 768, 47, 27, 79] \n",
            "\n"
          ]
        }
      ]
    },
    {
      "cell_type": "code",
      "source": [
        "df = pd.DataFrame(crimes_by_region,columns=crimes_by_region[0])   #Convert table (list) to dataframe."
      ],
      "metadata": {
        "id": "GOzGdLGI_6Wo"
      },
      "execution_count": 36,
      "outputs": []
    },
    {
      "cell_type": "code",
      "source": [
        "df"
      ],
      "metadata": {
        "colab": {
          "base_uri": "https://localhost:8080/",
          "height": 363
        },
        "id": "MVjcvolFA0Eg",
        "outputId": "135a3406-20f1-44d3-f040-d45319482be5"
      },
      "execution_count": 37,
      "outputs": [
        {
          "output_type": "execute_result",
          "data": {
            "text/html": [
              "\n",
              "  <div id=\"df-aa6c9cad-2cf8-4bc8-b363-c6e08121fa11\">\n",
              "    <div class=\"colab-df-container\">\n",
              "      <div>\n",
              "<style scoped>\n",
              "    .dataframe tbody tr th:only-of-type {\n",
              "        vertical-align: middle;\n",
              "    }\n",
              "\n",
              "    .dataframe tbody tr th {\n",
              "        vertical-align: top;\n",
              "    }\n",
              "\n",
              "    .dataframe thead th {\n",
              "        text-align: right;\n",
              "    }\n",
              "</style>\n",
              "<table border=\"1\" class=\"dataframe\">\n",
              "  <thead>\n",
              "    <tr style=\"text-align: right;\">\n",
              "      <th></th>\n",
              "      <th>Crime</th>\n",
              "      <th>Central</th>\n",
              "      <th>Northwest</th>\n",
              "      <th>Northeast</th>\n",
              "      <th>Southwest</th>\n",
              "      <th>Southeast</th>\n",
              "    </tr>\n",
              "  </thead>\n",
              "  <tbody>\n",
              "    <tr>\n",
              "      <th>0</th>\n",
              "      <td>Crime</td>\n",
              "      <td>Central</td>\n",
              "      <td>Northwest</td>\n",
              "      <td>Northeast</td>\n",
              "      <td>Southwest</td>\n",
              "      <td>Southeast</td>\n",
              "    </tr>\n",
              "    <tr>\n",
              "      <th>1</th>\n",
              "      <td>AGGRAVATED ASSAULT</td>\n",
              "      <td>4749</td>\n",
              "      <td>4010</td>\n",
              "      <td>108</td>\n",
              "      <td>61</td>\n",
              "      <td>378</td>\n",
              "    </tr>\n",
              "    <tr>\n",
              "      <th>2</th>\n",
              "      <td>ARSON</td>\n",
              "      <td>323</td>\n",
              "      <td>281</td>\n",
              "      <td>8</td>\n",
              "      <td>4</td>\n",
              "      <td>18</td>\n",
              "    </tr>\n",
              "    <tr>\n",
              "      <th>3</th>\n",
              "      <td>BURGLARY</td>\n",
              "      <td>11085</td>\n",
              "      <td>10622</td>\n",
              "      <td>471</td>\n",
              "      <td>222</td>\n",
              "      <td>1247</td>\n",
              "    </tr>\n",
              "    <tr>\n",
              "      <th>4</th>\n",
              "      <td>DRUG OFFENSE</td>\n",
              "      <td>5635</td>\n",
              "      <td>3586</td>\n",
              "      <td>103</td>\n",
              "      <td>75</td>\n",
              "      <td>173</td>\n",
              "    </tr>\n",
              "    <tr>\n",
              "      <th>5</th>\n",
              "      <td>LARCENY-THEFT</td>\n",
              "      <td>33169</td>\n",
              "      <td>27616</td>\n",
              "      <td>1979</td>\n",
              "      <td>598</td>\n",
              "      <td>2852</td>\n",
              "    </tr>\n",
              "    <tr>\n",
              "      <th>6</th>\n",
              "      <td>MOTOR VEHICLE THEFT</td>\n",
              "      <td>6731</td>\n",
              "      <td>6725</td>\n",
              "      <td>161</td>\n",
              "      <td>111</td>\n",
              "      <td>663</td>\n",
              "    </tr>\n",
              "    <tr>\n",
              "      <th>7</th>\n",
              "      <td>MURDER AND NON-NEGLIGENT MANSLAUGHTER</td>\n",
              "      <td>143</td>\n",
              "      <td>125</td>\n",
              "      <td>0</td>\n",
              "      <td>5</td>\n",
              "      <td>16</td>\n",
              "    </tr>\n",
              "    <tr>\n",
              "      <th>8</th>\n",
              "      <td>RAPE</td>\n",
              "      <td>1059</td>\n",
              "      <td>768</td>\n",
              "      <td>47</td>\n",
              "      <td>27</td>\n",
              "      <td>79</td>\n",
              "    </tr>\n",
              "    <tr>\n",
              "      <th>9</th>\n",
              "      <td>ROBBERY</td>\n",
              "      <td>2954</td>\n",
              "      <td>2428</td>\n",
              "      <td>42</td>\n",
              "      <td>24</td>\n",
              "      <td>192</td>\n",
              "    </tr>\n",
              "  </tbody>\n",
              "</table>\n",
              "</div>\n",
              "      <button class=\"colab-df-convert\" onclick=\"convertToInteractive('df-aa6c9cad-2cf8-4bc8-b363-c6e08121fa11')\"\n",
              "              title=\"Convert this dataframe to an interactive table.\"\n",
              "              style=\"display:none;\">\n",
              "        \n",
              "  <svg xmlns=\"http://www.w3.org/2000/svg\" height=\"24px\"viewBox=\"0 0 24 24\"\n",
              "       width=\"24px\">\n",
              "    <path d=\"M0 0h24v24H0V0z\" fill=\"none\"/>\n",
              "    <path d=\"M18.56 5.44l.94 2.06.94-2.06 2.06-.94-2.06-.94-.94-2.06-.94 2.06-2.06.94zm-11 1L8.5 8.5l.94-2.06 2.06-.94-2.06-.94L8.5 2.5l-.94 2.06-2.06.94zm10 10l.94 2.06.94-2.06 2.06-.94-2.06-.94-.94-2.06-.94 2.06-2.06.94z\"/><path d=\"M17.41 7.96l-1.37-1.37c-.4-.4-.92-.59-1.43-.59-.52 0-1.04.2-1.43.59L10.3 9.45l-7.72 7.72c-.78.78-.78 2.05 0 2.83L4 21.41c.39.39.9.59 1.41.59.51 0 1.02-.2 1.41-.59l7.78-7.78 2.81-2.81c.8-.78.8-2.07 0-2.86zM5.41 20L4 18.59l7.72-7.72 1.47 1.35L5.41 20z\"/>\n",
              "  </svg>\n",
              "      </button>\n",
              "      \n",
              "  <style>\n",
              "    .colab-df-container {\n",
              "      display:flex;\n",
              "      flex-wrap:wrap;\n",
              "      gap: 12px;\n",
              "    }\n",
              "\n",
              "    .colab-df-convert {\n",
              "      background-color: #E8F0FE;\n",
              "      border: none;\n",
              "      border-radius: 50%;\n",
              "      cursor: pointer;\n",
              "      display: none;\n",
              "      fill: #1967D2;\n",
              "      height: 32px;\n",
              "      padding: 0 0 0 0;\n",
              "      width: 32px;\n",
              "    }\n",
              "\n",
              "    .colab-df-convert:hover {\n",
              "      background-color: #E2EBFA;\n",
              "      box-shadow: 0px 1px 2px rgba(60, 64, 67, 0.3), 0px 1px 3px 1px rgba(60, 64, 67, 0.15);\n",
              "      fill: #174EA6;\n",
              "    }\n",
              "\n",
              "    [theme=dark] .colab-df-convert {\n",
              "      background-color: #3B4455;\n",
              "      fill: #D2E3FC;\n",
              "    }\n",
              "\n",
              "    [theme=dark] .colab-df-convert:hover {\n",
              "      background-color: #434B5C;\n",
              "      box-shadow: 0px 1px 3px 1px rgba(0, 0, 0, 0.15);\n",
              "      filter: drop-shadow(0px 1px 2px rgba(0, 0, 0, 0.3));\n",
              "      fill: #FFFFFF;\n",
              "    }\n",
              "  </style>\n",
              "\n",
              "      <script>\n",
              "        const buttonEl =\n",
              "          document.querySelector('#df-aa6c9cad-2cf8-4bc8-b363-c6e08121fa11 button.colab-df-convert');\n",
              "        buttonEl.style.display =\n",
              "          google.colab.kernel.accessAllowed ? 'block' : 'none';\n",
              "\n",
              "        async function convertToInteractive(key) {\n",
              "          const element = document.querySelector('#df-aa6c9cad-2cf8-4bc8-b363-c6e08121fa11');\n",
              "          const dataTable =\n",
              "            await google.colab.kernel.invokeFunction('convertToInteractive',\n",
              "                                                     [key], {});\n",
              "          if (!dataTable) return;\n",
              "\n",
              "          const docLinkHtml = 'Like what you see? Visit the ' +\n",
              "            '<a target=\"_blank\" href=https://colab.research.google.com/notebooks/data_table.ipynb>data table notebook</a>'\n",
              "            + ' to learn more about interactive tables.';\n",
              "          element.innerHTML = '';\n",
              "          dataTable['output_type'] = 'display_data';\n",
              "          await google.colab.output.renderOutput(dataTable, element);\n",
              "          const docLink = document.createElement('div');\n",
              "          docLink.innerHTML = docLinkHtml;\n",
              "          element.appendChild(docLink);\n",
              "        }\n",
              "      </script>\n",
              "    </div>\n",
              "  </div>\n",
              "  "
            ],
            "text/plain": [
              "                                   Crime  Central  ...  Southwest  Southeast\n",
              "0                                  Crime  Central  ...  Southwest  Southeast\n",
              "1                     AGGRAVATED ASSAULT     4749  ...         61        378\n",
              "2                                  ARSON      323  ...          4         18\n",
              "3                               BURGLARY    11085  ...        222       1247\n",
              "4                           DRUG OFFENSE     5635  ...         75        173\n",
              "5                          LARCENY-THEFT    33169  ...        598       2852\n",
              "6                    MOTOR VEHICLE THEFT     6731  ...        111        663\n",
              "7  MURDER AND NON-NEGLIGENT MANSLAUGHTER      143  ...          5         16\n",
              "8                                   RAPE     1059  ...         27         79\n",
              "9                                ROBBERY     2954  ...         24        192\n",
              "\n",
              "[10 rows x 6 columns]"
            ]
          },
          "metadata": {},
          "execution_count": 37
        }
      ]
    },
    {
      "cell_type": "code",
      "source": [
        "df = df.drop(labels=0, axis=0)   #Remove first row as it is already repeated on the header."
      ],
      "metadata": {
        "id": "JGFUyS7KA1y5"
      },
      "execution_count": 38,
      "outputs": []
    },
    {
      "cell_type": "code",
      "source": [
        "df"
      ],
      "metadata": {
        "colab": {
          "base_uri": "https://localhost:8080/",
          "height": 332
        },
        "id": "7qpkb1InCFFy",
        "outputId": "56d33072-a04c-49f5-81cf-9431e25a4593"
      },
      "execution_count": 39,
      "outputs": [
        {
          "output_type": "execute_result",
          "data": {
            "text/html": [
              "\n",
              "  <div id=\"df-528815d2-8b51-4279-8edc-963765b20fb8\">\n",
              "    <div class=\"colab-df-container\">\n",
              "      <div>\n",
              "<style scoped>\n",
              "    .dataframe tbody tr th:only-of-type {\n",
              "        vertical-align: middle;\n",
              "    }\n",
              "\n",
              "    .dataframe tbody tr th {\n",
              "        vertical-align: top;\n",
              "    }\n",
              "\n",
              "    .dataframe thead th {\n",
              "        text-align: right;\n",
              "    }\n",
              "</style>\n",
              "<table border=\"1\" class=\"dataframe\">\n",
              "  <thead>\n",
              "    <tr style=\"text-align: right;\">\n",
              "      <th></th>\n",
              "      <th>Crime</th>\n",
              "      <th>Central</th>\n",
              "      <th>Northwest</th>\n",
              "      <th>Northeast</th>\n",
              "      <th>Southwest</th>\n",
              "      <th>Southeast</th>\n",
              "    </tr>\n",
              "  </thead>\n",
              "  <tbody>\n",
              "    <tr>\n",
              "      <th>1</th>\n",
              "      <td>AGGRAVATED ASSAULT</td>\n",
              "      <td>4749</td>\n",
              "      <td>4010</td>\n",
              "      <td>108</td>\n",
              "      <td>61</td>\n",
              "      <td>378</td>\n",
              "    </tr>\n",
              "    <tr>\n",
              "      <th>2</th>\n",
              "      <td>ARSON</td>\n",
              "      <td>323</td>\n",
              "      <td>281</td>\n",
              "      <td>8</td>\n",
              "      <td>4</td>\n",
              "      <td>18</td>\n",
              "    </tr>\n",
              "    <tr>\n",
              "      <th>3</th>\n",
              "      <td>BURGLARY</td>\n",
              "      <td>11085</td>\n",
              "      <td>10622</td>\n",
              "      <td>471</td>\n",
              "      <td>222</td>\n",
              "      <td>1247</td>\n",
              "    </tr>\n",
              "    <tr>\n",
              "      <th>4</th>\n",
              "      <td>DRUG OFFENSE</td>\n",
              "      <td>5635</td>\n",
              "      <td>3586</td>\n",
              "      <td>103</td>\n",
              "      <td>75</td>\n",
              "      <td>173</td>\n",
              "    </tr>\n",
              "    <tr>\n",
              "      <th>5</th>\n",
              "      <td>LARCENY-THEFT</td>\n",
              "      <td>33169</td>\n",
              "      <td>27616</td>\n",
              "      <td>1979</td>\n",
              "      <td>598</td>\n",
              "      <td>2852</td>\n",
              "    </tr>\n",
              "    <tr>\n",
              "      <th>6</th>\n",
              "      <td>MOTOR VEHICLE THEFT</td>\n",
              "      <td>6731</td>\n",
              "      <td>6725</td>\n",
              "      <td>161</td>\n",
              "      <td>111</td>\n",
              "      <td>663</td>\n",
              "    </tr>\n",
              "    <tr>\n",
              "      <th>7</th>\n",
              "      <td>MURDER AND NON-NEGLIGENT MANSLAUGHTER</td>\n",
              "      <td>143</td>\n",
              "      <td>125</td>\n",
              "      <td>0</td>\n",
              "      <td>5</td>\n",
              "      <td>16</td>\n",
              "    </tr>\n",
              "    <tr>\n",
              "      <th>8</th>\n",
              "      <td>RAPE</td>\n",
              "      <td>1059</td>\n",
              "      <td>768</td>\n",
              "      <td>47</td>\n",
              "      <td>27</td>\n",
              "      <td>79</td>\n",
              "    </tr>\n",
              "    <tr>\n",
              "      <th>9</th>\n",
              "      <td>ROBBERY</td>\n",
              "      <td>2954</td>\n",
              "      <td>2428</td>\n",
              "      <td>42</td>\n",
              "      <td>24</td>\n",
              "      <td>192</td>\n",
              "    </tr>\n",
              "  </tbody>\n",
              "</table>\n",
              "</div>\n",
              "      <button class=\"colab-df-convert\" onclick=\"convertToInteractive('df-528815d2-8b51-4279-8edc-963765b20fb8')\"\n",
              "              title=\"Convert this dataframe to an interactive table.\"\n",
              "              style=\"display:none;\">\n",
              "        \n",
              "  <svg xmlns=\"http://www.w3.org/2000/svg\" height=\"24px\"viewBox=\"0 0 24 24\"\n",
              "       width=\"24px\">\n",
              "    <path d=\"M0 0h24v24H0V0z\" fill=\"none\"/>\n",
              "    <path d=\"M18.56 5.44l.94 2.06.94-2.06 2.06-.94-2.06-.94-.94-2.06-.94 2.06-2.06.94zm-11 1L8.5 8.5l.94-2.06 2.06-.94-2.06-.94L8.5 2.5l-.94 2.06-2.06.94zm10 10l.94 2.06.94-2.06 2.06-.94-2.06-.94-.94-2.06-.94 2.06-2.06.94z\"/><path d=\"M17.41 7.96l-1.37-1.37c-.4-.4-.92-.59-1.43-.59-.52 0-1.04.2-1.43.59L10.3 9.45l-7.72 7.72c-.78.78-.78 2.05 0 2.83L4 21.41c.39.39.9.59 1.41.59.51 0 1.02-.2 1.41-.59l7.78-7.78 2.81-2.81c.8-.78.8-2.07 0-2.86zM5.41 20L4 18.59l7.72-7.72 1.47 1.35L5.41 20z\"/>\n",
              "  </svg>\n",
              "      </button>\n",
              "      \n",
              "  <style>\n",
              "    .colab-df-container {\n",
              "      display:flex;\n",
              "      flex-wrap:wrap;\n",
              "      gap: 12px;\n",
              "    }\n",
              "\n",
              "    .colab-df-convert {\n",
              "      background-color: #E8F0FE;\n",
              "      border: none;\n",
              "      border-radius: 50%;\n",
              "      cursor: pointer;\n",
              "      display: none;\n",
              "      fill: #1967D2;\n",
              "      height: 32px;\n",
              "      padding: 0 0 0 0;\n",
              "      width: 32px;\n",
              "    }\n",
              "\n",
              "    .colab-df-convert:hover {\n",
              "      background-color: #E2EBFA;\n",
              "      box-shadow: 0px 1px 2px rgba(60, 64, 67, 0.3), 0px 1px 3px 1px rgba(60, 64, 67, 0.15);\n",
              "      fill: #174EA6;\n",
              "    }\n",
              "\n",
              "    [theme=dark] .colab-df-convert {\n",
              "      background-color: #3B4455;\n",
              "      fill: #D2E3FC;\n",
              "    }\n",
              "\n",
              "    [theme=dark] .colab-df-convert:hover {\n",
              "      background-color: #434B5C;\n",
              "      box-shadow: 0px 1px 3px 1px rgba(0, 0, 0, 0.15);\n",
              "      filter: drop-shadow(0px 1px 2px rgba(0, 0, 0, 0.3));\n",
              "      fill: #FFFFFF;\n",
              "    }\n",
              "  </style>\n",
              "\n",
              "      <script>\n",
              "        const buttonEl =\n",
              "          document.querySelector('#df-528815d2-8b51-4279-8edc-963765b20fb8 button.colab-df-convert');\n",
              "        buttonEl.style.display =\n",
              "          google.colab.kernel.accessAllowed ? 'block' : 'none';\n",
              "\n",
              "        async function convertToInteractive(key) {\n",
              "          const element = document.querySelector('#df-528815d2-8b51-4279-8edc-963765b20fb8');\n",
              "          const dataTable =\n",
              "            await google.colab.kernel.invokeFunction('convertToInteractive',\n",
              "                                                     [key], {});\n",
              "          if (!dataTable) return;\n",
              "\n",
              "          const docLinkHtml = 'Like what you see? Visit the ' +\n",
              "            '<a target=\"_blank\" href=https://colab.research.google.com/notebooks/data_table.ipynb>data table notebook</a>'\n",
              "            + ' to learn more about interactive tables.';\n",
              "          element.innerHTML = '';\n",
              "          dataTable['output_type'] = 'display_data';\n",
              "          await google.colab.output.renderOutput(dataTable, element);\n",
              "          const docLink = document.createElement('div');\n",
              "          docLink.innerHTML = docLinkHtml;\n",
              "          element.appendChild(docLink);\n",
              "        }\n",
              "      </script>\n",
              "    </div>\n",
              "  </div>\n",
              "  "
            ],
            "text/plain": [
              "                                   Crime Central  ... Southwest Southeast\n",
              "1                     AGGRAVATED ASSAULT    4749  ...        61       378\n",
              "2                                  ARSON     323  ...         4        18\n",
              "3                               BURGLARY   11085  ...       222      1247\n",
              "4                           DRUG OFFENSE    5635  ...        75       173\n",
              "5                          LARCENY-THEFT   33169  ...       598      2852\n",
              "6                    MOTOR VEHICLE THEFT    6731  ...       111       663\n",
              "7  MURDER AND NON-NEGLIGENT MANSLAUGHTER     143  ...         5        16\n",
              "8                                   RAPE    1059  ...        27        79\n",
              "9                                ROBBERY    2954  ...        24       192\n",
              "\n",
              "[9 rows x 6 columns]"
            ]
          },
          "metadata": {},
          "execution_count": 39
        }
      ]
    },
    {
      "cell_type": "code",
      "source": [
        "asd = df.sort_values(by=['Central'],ascending=False)   #Sort dataframe values according to 'Centra' column."
      ],
      "metadata": {
        "id": "afyQNmJb0JB5"
      },
      "execution_count": 48,
      "outputs": []
    },
    {
      "cell_type": "code",
      "source": [
        "asd.plot.bar(x=0,y=1)   #Plot only 'Central' values in descending order."
      ],
      "metadata": {
        "colab": {
          "base_uri": "https://localhost:8080/",
          "height": 529
        },
        "id": "4mP7Habj0kvZ",
        "outputId": "9cf383d6-9616-414f-950f-39e519114e49"
      },
      "execution_count": 49,
      "outputs": [
        {
          "output_type": "execute_result",
          "data": {
            "text/plain": [
              "<matplotlib.axes._subplots.AxesSubplot at 0x7f5ec16f4050>"
            ]
          },
          "metadata": {},
          "execution_count": 49
        },
        {
          "output_type": "display_data",
          "data": {
            "image/png": "[encoded data removed]",
            "text/plain": [
              "<Figure size 432x288 with 1 Axes>"
            ]
          },
          "metadata": {
            "needs_background": "light"
          }
        }
      ]
    },
    {
      "cell_type": "code",
      "source": [
        ""
      ],
      "metadata": {
        "id": "4uoSHZvy0oX5"
      },
      "execution_count": null,
      "outputs": []
    }
  ]
}